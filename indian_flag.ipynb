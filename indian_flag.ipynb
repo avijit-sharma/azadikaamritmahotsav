{
  "nbformat": 4,
  "nbformat_minor": 0,
  "metadata": {
    "colab": {
      "name": "indian_flag.ipynb",
      "provenance": [],
      "collapsed_sections": [],
      "authorship_tag": "ABX9TyMGRyjYdwVBSvr6xnuG54eZ",
      "include_colab_link": true
    },
    "kernelspec": {
      "name": "python3",
      "display_name": "Python 3"
    },
    "language_info": {
      "name": "python"
    }
  },
  "cells": [
    {
      "cell_type": "markdown",
      "metadata": {
        "id": "view-in-github",
        "colab_type": "text"
      },
      "source": [
        "<a href=\"https://colab.research.google.com/github/avijit-sharma/azadikaamritmahotsav/blob/main/indian_flag.ipynb\" target=\"_parent\"><img src=\"https://colab.research.google.com/assets/colab-badge.svg\" alt=\"Open In Colab\"/></a>"
      ]
    },
    {
      "cell_type": "code",
      "source": [
        "import numpy as np \n",
        "import matplotlib.pyplot as py\n",
        "import matplotlib.patches as patch\n",
        "a = patch.Rectangle((0,1),width=12 ,height=2, facecolor= 'green', edgecolor='grey')\n",
        "b = patch.Rectangle((0,3),width=12 ,height=2, facecolor= 'white', edgecolor='grey')\n",
        "c = patch.Rectangle((0,5),width=12 ,height=2, facecolor= '#FF6103', edgecolor='grey')\n",
        "m,n = py.subplots()\n",
        "n.add_patch(a)\n",
        "n.add_patch(b)\n",
        "n.add_patch(c)\n",
        "radius = 0.8\n",
        "py.plot(6,4, marker = 'o',markerfacecolor = '#000088ff',markersize = 9.5)\n",
        "chakra = py.Circle((6,4),radius, color = '#000088ff',fill= False,linewidth =7)\n",
        "n.add_artist(chakra)\n",
        "for i in range(24):\n",
        "  p = 6 + radius/2 * np.cos(np.pi*i/12 + np.pi/48)\n",
        "  q = 6 + radius/2 * np.cos(np.pi*i/12 - np.pi/48)\n",
        "  r = 4 + radius/2 * np.sin(np.pi*i/12 + np.pi/48)\n",
        "  s = 4 + radius/2 * np.sin(np.pi*i/12 - np.pi/48)\n",
        "  t = 6 + radius * np.cos(np.pi*i/12)\n",
        "  u = 4 + radius * np.sin(np.pi*i/12)\n",
        "  n.add_patch(patch.Polygon([[6,4],[p,r],[t,u],[q,s]], fill= True, closed= True,color= '#000088ff'))\n",
        "py.axis('equal')\n",
        "py.show()\n"
      ],
      "metadata": {
        "colab": {
          "base_uri": "https://localhost:8080/",
          "height": 265
        },
        "id": "tc1gs9KykFbq",
        "outputId": "d8d34b19-8cd7-4267-fd90-250ea0645441"
      },
      "execution_count": 15,
      "outputs": [
        {
          "output_type": "display_data",
          "data": {
            "text/plain": [
              "<Figure size 432x288 with 1 Axes>"
            ],
            "image/png": "[encoded data removed]"
          },
          "metadata": {
            "needs_background": "light"
          }
        }
      ]
    }
  ]
}